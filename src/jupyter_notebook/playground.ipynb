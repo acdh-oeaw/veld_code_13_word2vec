{
 "cells": [
  {
   "cell_type": "code",
   "execution_count": null,
   "id": "78f1d90b-4a93-4b63-b22d-a20fa107c361",
   "metadata": {},
   "outputs": [],
   "source": [
    "import gensim"
   ]
  },
  {
   "cell_type": "code",
   "execution_count": null,
   "id": "96f36e77-5914-42bd-a6b4-7c2370802941",
   "metadata": {},
   "outputs": [],
   "source": [
    "!ls /veld/storage/"
   ]
  },
  {
   "cell_type": "code",
   "execution_count": null,
   "id": "f8cbcf14-af90-491b-bb89-854b702234e8",
   "metadata": {},
   "outputs": [],
   "source": [
    "model_path = \"/veld/storage/models/m1/m1.bin\"\n",
    "\n",
    "model = gensim.models.Word2Vec.load(model_path)\n",
    "    \n",
    "print(model.wv[\"und\"])"
   ]
  }
 ],
 "metadata": {
  "kernelspec": {
   "display_name": "Python 3 (ipykernel)",
   "language": "python",
   "name": "python3"
  },
  "language_info": {
   "codemirror_mode": {
    "name": "ipython",
    "version": 3
   },
   "file_extension": ".py",
   "mimetype": "text/x-python",
   "name": "python",
   "nbconvert_exporter": "python",
   "pygments_lexer": "ipython3",
   "version": "3.10.12"
  }
 },
 "nbformat": 4,
 "nbformat_minor": 5
}
