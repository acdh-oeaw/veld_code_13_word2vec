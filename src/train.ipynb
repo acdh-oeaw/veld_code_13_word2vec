{
 "cells": [
  {
   "cell_type": "code",
   "execution_count": 7,
   "id": "af209ee2-4e1f-4b5d-ae5d-76ebe8b665b0",
   "metadata": {},
   "outputs": [
    {
     "name": "stdout",
     "output_type": "stream",
     "text": [
      "petite.csv\n"
     ]
    }
   ],
   "source": [
    "# traing data into this folder\n",
    "!ls /veld/input/"
   ]
  },
  {
   "cell_type": "code",
   "execution_count": 8,
   "id": "40dab2ed-1791-4cb8-9fa2-7480f2f41b3c",
   "metadata": {},
   "outputs": [
    {
     "name": "stdout",
     "output_type": "stream",
     "text": [
      "train.ipynb\n"
     ]
    }
   ],
   "source": [
    "# code here\n",
    "!ls /veld/executable/"
   ]
  },
  {
   "cell_type": "code",
   "execution_count": 7,
   "id": "ff4ab13e-0705-4f47-9d90-faf367fb823d",
   "metadata": {},
   "outputs": [
    {
     "name": "stdout",
     "output_type": "stream",
     "text": [
      "model\n"
     ]
    }
   ],
   "source": [
    "# save models here\n",
    "!ls /veld/output/"
   ]
  },
  {
   "cell_type": "code",
   "execution_count": 1,
   "id": "aa244606-ecb1-44de-8a43-959610e5cb90",
   "metadata": {},
   "outputs": [],
   "source": [
    "import pandas as pd"
   ]
  },
  {
   "cell_type": "code",
   "execution_count": 2,
   "id": "716b25d8-72c0-4c4f-8089-607e2bea7c20",
   "metadata": {},
   "outputs": [],
   "source": [
    "petite= pd.read_csv(\"/veld/input/clean_de_wiki.csv\")"
   ]
  },
  {
   "cell_type": "code",
   "execution_count": 3,
   "id": "e2521fc3-4ee4-4900-b9fe-a7213af11399",
   "metadata": {},
   "outputs": [
    {
     "data": {
      "text/html": [
       "<div>\n",
       "<style scoped>\n",
       "    .dataframe tbody tr th:only-of-type {\n",
       "        vertical-align: middle;\n",
       "    }\n",
       "\n",
       "    .dataframe tbody tr th {\n",
       "        vertical-align: top;\n",
       "    }\n",
       "\n",
       "    .dataframe thead th {\n",
       "        text-align: right;\n",
       "    }\n",
       "</style>\n",
       "<table border=\"1\" class=\"dataframe\">\n",
       "  <thead>\n",
       "    <tr style=\"text-align: right;\">\n",
       "      <th></th>\n",
       "      <th>\\ttext</th>\n",
       "    </tr>\n",
       "  </thead>\n",
       "  <tbody>\n",
       "    <tr>\n",
       "      <th>0</th>\n",
       "      <td>0\\tAlan Smithee steht als Pseudonym für einen ...</td>\n",
       "    </tr>\n",
       "    <tr>\n",
       "      <th>1</th>\n",
       "      <td>1\\tActinium ist ein radioaktives chemisches El...</td>\n",
       "    </tr>\n",
       "    <tr>\n",
       "      <th>2</th>\n",
       "      <td>2\\tAng Lee Oktober in Chaozhou Landkreis Pingt...</td>\n",
       "    </tr>\n",
       "    <tr>\n",
       "      <th>3</th>\n",
       "      <td>3\\tAnschluss ist in der Soziologie ein Fachbeg...</td>\n",
       "    </tr>\n",
       "    <tr>\n",
       "      <th>4</th>\n",
       "      <td>4\\tDie Aussagenlogik ist ein Teilgebiet der Lo...</td>\n",
       "    </tr>\n",
       "  </tbody>\n",
       "</table>\n",
       "</div>"
      ],
      "text/plain": [
       "                                              \\ttext\n",
       "0  0\\tAlan Smithee steht als Pseudonym für einen ...\n",
       "1  1\\tActinium ist ein radioaktives chemisches El...\n",
       "2  2\\tAng Lee Oktober in Chaozhou Landkreis Pingt...\n",
       "3  3\\tAnschluss ist in der Soziologie ein Fachbeg...\n",
       "4  4\\tDie Aussagenlogik ist ein Teilgebiet der Lo..."
      ]
     },
     "execution_count": 3,
     "metadata": {},
     "output_type": "execute_result"
    }
   ],
   "source": [
    "petite.head()"
   ]
  },
  {
   "cell_type": "code",
   "execution_count": 8,
   "id": "296aa9b5-036f-4aa4-8adf-c338a27489cd",
   "metadata": {},
   "outputs": [],
   "source": [
    "petite = petite.rename(columns={\"\\ttext\": \"text\"}) #we notice that the text is not clean; therefore we perform some cleaning process"
   ]
  },
  {
   "cell_type": "code",
   "execution_count": 9,
   "id": "c144e21e-b411-4420-9e95-47b7760b1397",
   "metadata": {},
   "outputs": [],
   "source": [
    "petite['text'] = petite['text'].str.replace('[^a-zA-Z0-9]', '')"
   ]
  },
  {
   "cell_type": "code",
   "execution_count": 10,
   "id": "fd24758a-a7d1-4d0b-a535-98644e4e295e",
   "metadata": {},
   "outputs": [],
   "source": [
    "petite['ttext']=petite['text'].str.replace(\"\\d+\", \" \", regex=True)"
   ]
  },
  {
   "cell_type": "code",
   "execution_count": 1,
   "id": "2615aa03-471b-4ee3-826e-83eaa1c57733",
   "metadata": {},
   "outputs": [
    {
     "ename": "NameError",
     "evalue": "name 'petite' is not defined",
     "output_type": "error",
     "traceback": [
      "\u001b[0;31m---------------------------------------------------------------------------\u001b[0m",
      "\u001b[0;31mNameError\u001b[0m                                 Traceback (most recent call last)",
      "Cell \u001b[0;32mIn[1], line 1\u001b[0m\n\u001b[0;32m----> 1\u001b[0m petite[\u001b[38;5;124m'\u001b[39m\u001b[38;5;124mtext\u001b[39m\u001b[38;5;124m'\u001b[39m]\u001b[38;5;241m=\u001b[39m\u001b[43mpetite\u001b[49m[\u001b[38;5;124m'\u001b[39m\u001b[38;5;124mtext\u001b[39m\u001b[38;5;124m'\u001b[39m]\u001b[38;5;241m.\u001b[39mstr\u001b[38;5;241m.\u001b[39mreplace(\u001b[38;5;124m\"\u001b[39m\u001b[38;5;130;01m\\t\u001b[39;00m\u001b[38;5;124m\"\u001b[39m, \u001b[38;5;124m\"\u001b[39m\u001b[38;5;124m \u001b[39m\u001b[38;5;124m\"\u001b[39m, regex\u001b[38;5;241m=\u001b[39m\u001b[38;5;28;01mTrue\u001b[39;00m)\n",
      "\u001b[0;31mNameError\u001b[0m: name 'petite' is not defined"
     ]
    }
   ],
   "source": [
    "petite['text']=petite['text'].str.replace(\"\\t\", \" \", regex=True)"
   ]
  },
  {
   "cell_type": "code",
   "execution_count": null,
   "id": "0c4d2d34-4feb-4b3e-9195-109e2d24ab3c",
   "metadata": {},
   "outputs": [],
   "source": [
    "petite['text']=petite['text'].str.replace(\"\\s+\", \" \",regex=True) #remove extra whitespace"
   ]
  },
  {
   "cell_type": "code",
   "execution_count": null,
   "id": "11298d24-068a-455d-a0b5-1f095a1ea5e4",
   "metadata": {},
   "outputs": [],
   "source": [
    "petite['text']=petite['text'].str.replace(\"\\\\n\", \" \",regex=True) #remove extra white lines"
   ]
  },
  {
   "cell_type": "code",
   "execution_count": null,
   "id": "ab50908d-8e4f-4e8e-8f2c-201e06a177b5",
   "metadata": {},
   "outputs": [],
   "source": [
    "petite['text']=petite['text'].str.replace(\"\\p{P}\", \" \",regex=True)"
   ]
  },
  {
   "cell_type": "code",
   "execution_count": null,
   "id": "d54a273b-4661-4cde-bb8e-414692083098",
   "metadata": {},
   "outputs": [],
   "source": [
    "petite.head()"
   ]
  },
  {
   "cell_type": "code",
   "execution_count": null,
   "id": "a360935a-4f3f-4368-a008-fcb47be9ae81",
   "metadata": {},
   "outputs": [],
   "source": [
    "import gensim"
   ]
  },
  {
   "cell_type": "code",
   "execution_count": null,
   "id": "688a1248-0c61-4d35-b039-beb783af984c",
   "metadata": {},
   "outputs": [],
   "source": [
    "model = gensim.models.Word2Vec.load(\"/veld/output/models/word2vec.model_de\")"
   ]
  },
  {
   "cell_type": "code",
   "execution_count": null,
   "id": "d9642ef3-e17e-4f9f-b71c-beff2b26101e",
   "metadata": {},
   "outputs": [],
   "source": [
    "word =\"Wien\"\n",
    "print(f'Similaries to {word}:')\n",
    "for similar_word, similarity in model.wv.most_similar(word, topn=10):\n",
    "    print(f\"- {similar_word}: {similarity}\")"
   ]
  },
  {
   "cell_type": "code",
   "execution_count": null,
   "id": "b3304a19-bc08-400b-95bb-9070219faa7c",
   "metadata": {},
   "outputs": [],
   "source": [
    "word =\"Frau\"\n",
    "print(f'Similaries to {word}:')\n",
    "for similar_word, similarity in model.wv.most_similar(word, topn=10):\n",
    "    print(f\"- {similar_word}: {similarity}\")"
   ]
  },
  {
   "cell_type": "code",
   "execution_count": null,
   "id": "5cbe24a7-ab50-4a15-82d1-e53c8e0cefac",
   "metadata": {},
   "outputs": [],
   "source": [
    "word =\"Dame\"\n",
    "print(f'Similaries to {word}:')\n",
    "for similar_word, similarity in model.wv.most_similar(word, topn=10):\n",
    "    print(f\"- {similar_word}: {similarity}\")"
   ]
  },
  {
   "cell_type": "code",
   "execution_count": null,
   "id": "b0089f52-e482-4ace-bc5d-7f437b95e3a2",
   "metadata": {},
   "outputs": [],
   "source": [
    "word =\"Baum\"\n",
    "print(f'Similaries to {word}:')\n",
    "for similar_word, similarity in model.wv.most_similar(word, topn=10):\n",
    "    print(f\"- {similar_word}: {similarity}\")"
   ]
  },
  {
   "cell_type": "code",
   "execution_count": null,
   "id": "12f44d36-b1c2-4da2-8b95-bf70f2272833",
   "metadata": {},
   "outputs": [],
   "source": [
    "model.wv.similarity('Frau', 'Dame')"
   ]
  },
  {
   "cell_type": "code",
   "execution_count": null,
   "id": "0c3ca867-bd5c-43f5-b822-d7162be4f993",
   "metadata": {},
   "outputs": [],
   "source": [
    "model.wv['Frau']"
   ]
  },
  {
   "cell_type": "code",
   "execution_count": null,
   "id": "033b49e2-5c01-4a3d-9561-0e6195235412",
   "metadata": {},
   "outputs": [],
   "source": [
    "import numpy"
   ]
  },
  {
   "cell_type": "code",
   "execution_count": null,
   "id": "f8d44958-06d2-4529-a854-8b0193f164ef",
   "metadata": {},
   "outputs": [],
   "source": [
    "print(cosine_similarity)"
   ]
  },
  {
   "cell_type": "code",
   "execution_count": null,
   "id": "9edd91b1-650a-4f3e-a5cb-a145a2a52e7a",
   "metadata": {},
   "outputs": [],
   "source": [
    "model.wv.similarity('Frau', 'Baum')"
   ]
  },
  {
   "cell_type": "code",
   "execution_count": null,
   "id": "819711f8-2baa-4e2c-bee7-2e7371034820",
   "metadata": {},
   "outputs": [],
   "source": [
    "model.wv.similarity('Dame', 'Baum')"
   ]
  },
  {
   "cell_type": "code",
   "execution_count": null,
   "id": "d3536a1a-ce3f-4afa-ac87-ebf64a0773da",
   "metadata": {},
   "outputs": [],
   "source": [
    "# Function to calculate cosine similarity between two word vectors\n",
    "def cosine_similarity(word1, word2):\n",
    "    try:\n",
    "        # Calculate cosine similarity between the word vectors\n",
    "        similarity_score = model.wv.similarity(word1, word2)\n",
    "        return similarity_score\n",
    "    except KeyError:\n",
    "        # Handle the case where one or both words are not in the vocabulary\n",
    "        return None\n",
    "\n",
    "# Example usage\n",
    "word1 = 'Frau'\n",
    "word2 = 'Dame'\n",
    "\n",
    "# Calculate cosine similarity between 'Frau' and 'Dame'\n",
    "similarity_score = cosine_similarity(word1, word2)\n",
    "\n",
    "if similarity_score is not None:\n",
    "    print(f\"Cosine Similarity between '{word1}' and '{word2}': {similarity_score:.4f}\")\n",
    "else:\n",
    "    print(f\"At least one of the words '{word1}' or '{word2}' is not in the vocabulary.\")\n"
   ]
  },
  {
   "cell_type": "code",
   "execution_count": null,
   "id": "e2cf23e8-e8fd-4527-ba05-b37bcc10ff60",
   "metadata": {},
   "outputs": [],
   "source": [
    "# Example usage\n",
    "word3 = 'Ball'\n",
    "word4 = 'Fest'\n",
    "\n",
    "# Calculate cosine similarity between 'Ball' and 'Fest'\n",
    "similarity_score = cosine_similarity(word3, word4)\n",
    "\n",
    "if similarity_score is not None:\n",
    "    print(f\"Cosine Similarity between '{word3}' and '{word4}': {similarity_score:.4f}\")\n",
    "else:\n",
    "    print(f\"At least one of the words '{word3}' or '{word4}' is not in the vocabulary.\")"
   ]
  },
  {
   "cell_type": "code",
   "execution_count": null,
   "id": "4a973377-1962-43a1-9ae1-1688771801c5",
   "metadata": {},
   "outputs": [],
   "source": [
    "# Example usage\n",
    "word5 = 'Gala'\n",
    "word6 = 'Fest'\n",
    "\n",
    "# Calculate cosine similarity between 'Gala' and 'Fest'\n",
    "similarity_score = cosine_similarity(word5, word6)\n",
    "\n",
    "if similarity_score is not None:\n",
    "    print(f\"Cosine Similarity between '{word5}' and '{word6}': {similarity_score:.4f}\")\n",
    "else:\n",
    "    print(f\"At least one of the words '{word5}' or '{word6}' is not in the vocabulary.\")"
   ]
  },
  {
   "cell_type": "code",
   "execution_count": null,
   "id": "da51fc16-a866-4908-91c6-a6fedc72a7da",
   "metadata": {},
   "outputs": [],
   "source": [
    "# Example usage\n",
    "word7 = 'Tanz'\n",
    "word8 = 'Fest'\n",
    "\n",
    "# Calculate cosine similarity between 'Tanz' and 'Fest'\n",
    "similarity_score = cosine_similarity(word7, word8)\n",
    "\n",
    "if similarity_score is not None:\n",
    "    print(f\"Cosine Similarity between '{word7}' and '{word8}': {similarity_score:.4f}\")\n",
    "else:\n",
    "    print(f\"At least one of the words '{word7}' or '{word8}' is not in the vocabulary.\")"
   ]
  },
  {
   "cell_type": "code",
   "execution_count": null,
   "id": "d2b04bea-ad50-43e7-872e-e823acd6783c",
   "metadata": {},
   "outputs": [],
   "source": [
    "# Example usage\n",
    "word9 = 'Gala'\n",
    "word10 = 'Tanz'\n",
    "\n",
    "# Calculate cosine similarity between 'Gala' and 'Fest'\n",
    "similarity_score = cosine_similarity(word9, word10)\n",
    "\n",
    "if similarity_score is not None:\n",
    "    print(f\"Cosine Similarity between '{word9}' and '{word10}': {similarity_score:.4f}\")\n",
    "else:\n",
    "    print(f\"At least one of the words '{word9}' or '{word10}' is not in the vocabulary.\")"
   ]
  },
  {
   "cell_type": "code",
   "execution_count": null,
   "id": "696caf4d-9343-4d23-ac66-2ceee7f61da1",
   "metadata": {},
   "outputs": [],
   "source": [
    "# Example usage\n",
    "word11 = 'Ball'\n",
    "word12 = 'Tanz'\n",
    "\n",
    "# Calculate cosine similarity between 'Gala' and 'Fest'\n",
    "similarity_score = cosine_similarity(word11, word12)\n",
    "\n",
    "if similarity_score is not None:\n",
    "    print(f\"Cosine Similarity between '{word11}' and '{word12}': {similarity_score:.4f}\")\n",
    "else:\n",
    "    print(f\"At least one of the words '{word11}' or '{word12}' is not in the vocabulary.\")"
   ]
  },
  {
   "cell_type": "code",
   "execution_count": null,
   "id": "60bb8f80-a53a-470f-be38-ccc7575c08c8",
   "metadata": {},
   "outputs": [],
   "source": [
    "# Example usage\n",
    "word13 = 'Ball'\n",
    "word14 = 'Gala'\n",
    "\n",
    "# Calculate cosine similarity between 'Gala' and 'Fest'\n",
    "similarity_score = cosine_similarity(word13, word14)\n",
    "\n",
    "if similarity_score is not None:\n",
    "    print(f\"Cosine Similarity between '{word13}' and '{word14}': {similarity_score:.4f}\")\n",
    "else:\n",
    "    print(f\"At least one of the words '{word13}' or '{word14}' is not in the vocabulary.\")"
   ]
  },
  {
   "cell_type": "code",
   "execution_count": null,
   "id": "6d87de37-2820-4747-a61c-674577df6350",
   "metadata": {},
   "outputs": [],
   "source": [
    "# Example usage\n",
    "word15 = 'Zweck'\n",
    "word16 = 'Ziel'\n",
    "\n",
    "# Calculate cosine similarity between 'Gala' and 'Fest'\n",
    "similarity_score = cosine_similarity(word15, word16)\n",
    "\n",
    "if similarity_score is not None:\n",
    "    print(f\"Cosine Similarity between '{word15}' and '{word16}': {similarity_score:.4f}\")\n",
    "else:\n",
    "    print(f\"At least one of the words '{word15}' or '{word16}' is not in the vocabulary.\")"
   ]
  },
  {
   "cell_type": "code",
   "execution_count": null,
   "id": "f1cce271-7901-4e7c-9ab5-36ab26a60907",
   "metadata": {},
   "outputs": [],
   "source": [
    "# Example usage\n",
    "word17 = 'Feuer'\n",
    "word18 = 'Brand'\n",
    "\n",
    "# Calculate cosine similarity between 'Gala' and 'Fest'\n",
    "similarity_score = cosine_similarity(word17, word18)\n",
    "\n",
    "if similarity_score is not None:\n",
    "    print(f\"Cosine Similarity between '{word17}' and '{word18}': {similarity_score:.4f}\")\n",
    "else:\n",
    "    print(f\"At least one of the words '{word17}' or '{word18}' is not in the vocabulary.\")"
   ]
  },
  {
   "cell_type": "code",
   "execution_count": null,
   "id": "9fc693a5-f32e-4a5a-858b-254c186126dd",
   "metadata": {},
   "outputs": [],
   "source": [
    "# Example usage\n",
    "word19 = 'Haltestelle'\n",
    "word20 = 'Station'\n",
    "\n",
    "# Calculate cosine similarity between 'Gala' and 'Fest'\n",
    "similarity_score = cosine_similarity(word19, word20)\n",
    "\n",
    "if similarity_score is not None:\n",
    "    print(f\"Cosine Similarity between '{word19}' and '{word20}': {similarity_score:.4f}\")\n",
    "else:\n",
    "    print(f\"At least one of the words '{word19}' or '{word20}' is not in the vocabulary.\")"
   ]
  },
  {
   "cell_type": "code",
   "execution_count": null,
   "id": "16c1aef0-4a08-4147-acd3-68cc09e64695",
   "metadata": {},
   "outputs": [],
   "source": [
    "# Example usage\n",
    "word21 = 'Zahl'\n",
    "word22 = 'Nummer'\n",
    "\n",
    "# Calculate cosine similarity between 'Gala' and 'Fest'\n",
    "similarity_score = cosine_similarity(word21, word22)\n",
    "\n",
    "if similarity_score is not None:\n",
    "    print(f\"Cosine Similarity between '{word21}' and '{word22}': {similarity_score:.4f}\")\n",
    "else:\n",
    "    print(f\"At least one of the words '{word21}' or '{word22}' is not in the vocabulary.\")"
   ]
  },
  {
   "cell_type": "code",
   "execution_count": null,
   "id": "ecb79677-1ba3-4da5-9cf9-0b41ae89a2b2",
   "metadata": {},
   "outputs": [],
   "source": [
    "# Example usage\n",
    "word25 = 'Raum'\n",
    "word26 = 'Zimmer'\n",
    "\n",
    "# Calculate cosine similarity between 'Gala' and 'Fest'\n",
    "similarity_score = cosine_similarity(word25, word26)\n",
    "\n",
    "if similarity_score is not None:\n",
    "    print(f\"Cosine Similarity between '{word25}' and '{word26}': {similarity_score:.4f}\")\n",
    "else:\n",
    "    print(f\"At least one of the words '{word25}' or '{word26}' is not in the vocabulary.\")"
   ]
  },
  {
   "cell_type": "code",
   "execution_count": null,
   "id": "1f5056cd-3506-4405-87d6-ec9e418e842d",
   "metadata": {},
   "outputs": [],
   "source": [
    "# Example usage\n",
    "word27 = 'Etage'\n",
    "word28 = 'Stock'\n",
    "\n",
    "# Calculate cosine similarity between 'Gala' and 'Fest'\n",
    "similarity_score = cosine_similarity(word27, word28)\n",
    "\n",
    "if similarity_score is not None:\n",
    "    print(f\"Cosine Similarity between '{word27}' and '{word28}': {similarity_score:.4f}\")\n",
    "else:\n",
    "    print(f\"At least one of the words '{word27}' or '{word28}' is not in the vocabulary.\")"
   ]
  },
  {
   "cell_type": "code",
   "execution_count": null,
   "id": "8670d13e-7fb9-4e0d-94f1-3ef980961efd",
   "metadata": {},
   "outputs": [],
   "source": [
    "# Example usage\n",
    "word27 = 'Ball'\n",
    "word28 = 'Kugel'\n",
    "\n",
    "# Calculate cosine similarity between 'Gala' and 'Fest'\n",
    "similarity_score = cosine_similarity(word27, word28)\n",
    "\n",
    "if similarity_score is not None:\n",
    "    print(f\"Cosine Similarity between '{word27}' and '{word28}': {similarity_score:.4f}\")\n",
    "else:\n",
    "    print(f\"At least one of the words '{word27}' or '{word28}' is not in the vocabulary.\")"
   ]
  },
  {
   "cell_type": "code",
   "execution_count": null,
   "id": "b418cb55-7c91-4d2d-be32-385c8850fed6",
   "metadata": {},
   "outputs": [],
   "source": [
    "# Example usage\n",
    "word27 = 'Frau'\n",
    "word28 = 'Mann'\n",
    "\n",
    "# Calculate cosine similarity between 'Gala' and 'Fest'\n",
    "similarity_score = cosine_similarity(word27, word28)\n",
    "\n",
    "if similarity_score is not None:\n",
    "    print(f\"Cosine Similarity between '{word27}' and '{word28}': {similarity_score:.4f}\")\n",
    "else:\n",
    "    print(f\"At least one of the words '{word27}' or '{word28}' is not in the vocabulary.\")"
   ]
  },
  {
   "cell_type": "code",
   "execution_count": null,
   "id": "401f73dc-4233-4a10-ad3d-3f31e1296c45",
   "metadata": {},
   "outputs": [],
   "source": [
    "# Example usage\n",
    "word27 = 'Frau'\n",
    "word28 = 'Dame'\n",
    "\n",
    "# Calculate cosine similarity between 'Gala' and 'Fest'\n",
    "similarity_score = cosine_similarity(word27, word28)\n",
    "\n",
    "if similarity_score is not None:\n",
    "    print(f\"Cosine Similarity between '{word27}' and '{word28}': {similarity_score:.4f}\")\n",
    "else:\n",
    "    print(f\"At least one of the words '{word27}' or '{word28}' is not in the vocabulary.\")"
   ]
  },
  {
   "cell_type": "code",
   "execution_count": 2,
   "id": "d7c9df46-45f7-4a20-98d2-a23f83c844f5",
   "metadata": {},
   "outputs": [],
   "source": [
    "import gensim"
   ]
  },
  {
   "cell_type": "code",
   "execution_count": 3,
   "id": "8353d6c5-e01e-4af5-83e5-da67334cb3e6",
   "metadata": {},
   "outputs": [],
   "source": [
    "model = gensim.models.Word2Vec.load(\"/veld/output/model/20240425word2vec_de.model\")"
   ]
  },
  {
   "cell_type": "code",
   "execution_count": 4,
   "id": "d463d885-5303-4589-bf31-949a640981e0",
   "metadata": {},
   "outputs": [
    {
     "data": {
      "text/plain": [
       "0.501066"
      ]
     },
     "execution_count": 4,
     "metadata": {},
     "output_type": "execute_result"
    }
   ],
   "source": [
    "model.wv.similarity('Frau', 'Dame')"
   ]
  },
  {
   "cell_type": "code",
   "execution_count": null,
   "id": "0d579706-2825-4dfc-9470-a93b06adbd58",
   "metadata": {},
   "outputs": [],
   "source": []
  }
 ],
 "metadata": {
  "kernelspec": {
   "display_name": "Python 3 (ipykernel)",
   "language": "python",
   "name": "python3"
  },
  "language_info": {
   "codemirror_mode": {
    "name": "ipython",
    "version": 3
   },
   "file_extension": ".py",
   "mimetype": "text/x-python",
   "name": "python",
   "nbconvert_exporter": "python",
   "pygments_lexer": "ipython3",
   "version": "3.10.12"
  }
 },
 "nbformat": 4,
 "nbformat_minor": 5
}
