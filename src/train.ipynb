{
 "cells": [
  {
   "cell_type": "code",
   "execution_count": 1,
   "id": "af209ee2-4e1f-4b5d-ae5d-76ebe8b665b0",
   "metadata": {},
   "outputs": [
    {
     "name": "stdout",
     "output_type": "stream",
     "text": [
      "veld.yaml\n"
     ]
    }
   ],
   "source": [
    "# traing data into this folder\n",
    "!ls /veld/input/"
   ]
  },
  {
   "cell_type": "code",
   "execution_count": 2,
   "id": "40dab2ed-1791-4cb8-9fa2-7480f2f41b3c",
   "metadata": {},
   "outputs": [
    {
     "name": "stdout",
     "output_type": "stream",
     "text": [
      "train.ipynb\n"
     ]
    }
   ],
   "source": [
    "# code here\n",
    "!ls /veld/executable/"
   ]
  },
  {
   "cell_type": "code",
   "execution_count": 3,
   "id": "ff4ab13e-0705-4f47-9d90-faf367fb823d",
   "metadata": {},
   "outputs": [
    {
     "name": "stdout",
     "output_type": "stream",
     "text": [
      "veld.yaml\n"
     ]
    }
   ],
   "source": [
    "# save models here\n",
    "!ls /veld/output/models/"
   ]
  },
  {
   "cell_type": "code",
   "execution_count": 4,
   "id": "7e860fa5-cbbb-4faf-bddd-8ff1f286d722",
   "metadata": {},
   "outputs": [
    {
     "name": "stdout",
     "output_type": "stream",
     "text": [
      "veld.yaml\n"
     ]
    }
   ],
   "source": [
    "# save evaluation here\n",
    "!ls /veld/output/evaluation/"
   ]
  }
 ],
 "metadata": {
  "kernelspec": {
   "display_name": "Python 3 (ipykernel)",
   "language": "python",
   "name": "python3"
  },
  "language_info": {
   "codemirror_mode": {
    "name": "ipython",
    "version": 3
   },
   "file_extension": ".py",
   "mimetype": "text/x-python",
   "name": "python",
   "nbconvert_exporter": "python",
   "pygments_lexer": "ipython3",
   "version": "3.10.12"
  }
 },
 "nbformat": 4,
 "nbformat_minor": 5
}
