{
 "cells": [
  {
   "cell_type": "code",
   "execution_count": 3,
   "id": "af209ee2-4e1f-4b5d-ae5d-76ebe8b665b0",
   "metadata": {},
   "outputs": [],
   "source": [
    "# traing data into this folder\n",
    "!ls /veld/input/"
   ]
  },
  {
   "cell_type": "code",
   "execution_count": 4,
   "id": "40dab2ed-1791-4cb8-9fa2-7480f2f41b3c",
   "metadata": {},
   "outputs": [
    {
     "name": "stdout",
     "output_type": "stream",
     "text": [
      "train.ipynb\n"
     ]
    }
   ],
   "source": [
    "# code here\n",
    "!ls /veld/executable/"
   ]
  },
  {
   "cell_type": "code",
   "execution_count": 18,
   "id": "ff4ab13e-0705-4f47-9d90-faf367fb823d",
   "metadata": {},
   "outputs": [
    {
     "name": "stdout",
     "output_type": "stream",
     "text": [
      "m1\t\t   word2vec.model_de.syn1neg.npy\n",
      "word2vec.model_de  word2vec.model_de.wv.vectors.npy\n"
     ]
    }
   ],
   "source": [
    "# save models here\n",
    "!ls /veld/output/models/"
   ]
  },
  {
   "cell_type": "code",
   "execution_count": 6,
   "id": "7e860fa5-cbbb-4faf-bddd-8ff1f286d722",
   "metadata": {},
   "outputs": [
    {
     "name": "stdout",
     "output_type": "stream",
     "text": [
      "veld.yaml\n"
     ]
    }
   ],
   "source": [
    "# save evaluation here\n",
    "!ls /veld/output/evaluation/"
   ]
  },
  {
   "cell_type": "code",
   "execution_count": 9,
   "id": "a360935a-4f3f-4368-a008-fcb47be9ae81",
   "metadata": {},
   "outputs": [],
   "source": [
    "import gensim"
   ]
  },
  {
   "cell_type": "code",
   "execution_count": 19,
   "id": "688a1248-0c61-4d35-b039-beb783af984c",
   "metadata": {},
   "outputs": [],
   "source": [
    "model = gensim.models.Word2Vec.load(\"/veld/output/models/word2vec.model_de\")"
   ]
  },
  {
   "cell_type": "code",
   "execution_count": 20,
   "id": "d9642ef3-e17e-4f9f-b71c-beff2b26101e",
   "metadata": {},
   "outputs": [
    {
     "name": "stdout",
     "output_type": "stream",
     "text": [
      "Similaries to Wien:\n",
      "- Graz: 0.8635727763175964\n",
      "- Innsbruck: 0.8126301765441895\n",
      "- Linz: 0.8041017651557922\n",
      "- Salzburg: 0.7798072099685669\n",
      "- Klagenfurt: 0.7620077729225159\n",
      "- Budapest: 0.7134349346160889\n",
      "- Prag: 0.7001412510871887\n",
      "- Mödling: 0.6942557692527771\n",
      "- Wiener: 0.6934540867805481\n",
      "- Gmunden: 0.6655656695365906\n"
     ]
    }
   ],
   "source": [
    "word =\"Wien\"\n",
    "print(f'Similaries to {word}:')\n",
    "for similar_word, similarity in model.wv.most_similar(word, topn=10):\n",
    "    print(f\"- {similar_word}: {similarity}\")"
   ]
  },
  {
   "cell_type": "code",
   "execution_count": 21,
   "id": "b3304a19-bc08-400b-95bb-9070219faa7c",
   "metadata": {},
   "outputs": [
    {
     "name": "stdout",
     "output_type": "stream",
     "text": [
      "Similaries to Frau:\n",
      "- Ehefrau: 0.8118889927864075\n",
      "- Mutter: 0.7776676416397095\n",
      "- Gattin: 0.7703653573989868\n",
      "- Tante: 0.7688735127449036\n",
      "- Haushälterin: 0.7636278867721558\n",
      "- Stiefmutter: 0.7631555795669556\n",
      "- Schwiegertochter: 0.7614105343818665\n",
      "- Schwiegermutter: 0.754393458366394\n",
      "- Schwester: 0.752608597278595\n",
      "- Nachbarin: 0.7470875978469849\n"
     ]
    }
   ],
   "source": [
    "word =\"Frau\"\n",
    "print(f'Similaries to {word}:')\n",
    "for similar_word, similarity in model.wv.most_similar(word, topn=10):\n",
    "    print(f\"- {similar_word}: {similarity}\")"
   ]
  },
  {
   "cell_type": "code",
   "execution_count": 11,
   "id": "5cbe24a7-ab50-4a15-82d1-e53c8e0cefac",
   "metadata": {},
   "outputs": [
    {
     "name": "stdout",
     "output_type": "stream",
     "text": [
      "Similaries to Dame:\n",
      "- Dame“: 0.6475930213928223\n",
      "- Édoin: 0.617663562297821\n",
      "- proclamer: 0.5866183042526245\n",
      "- Jungfer: 0.5776024460792542\n",
      "- Zigeunerin: 0.5705736875534058\n",
      "- Viendra: 0.559945821762085\n",
      "- Braut: 0.5524067878723145\n",
      "- Blondine: 0.5481079816818237\n",
      "- Madame: 0.5478821992874146\n",
      "- Pariserin: 0.5472493171691895\n"
     ]
    }
   ],
   "source": [
    "word =\"Dame\"\n",
    "print(f'Similaries to {word}:')\n",
    "for similar_word, similarity in model.wv.most_similar(word, topn=10):\n",
    "    print(f\"- {similar_word}: {similarity}\")"
   ]
  },
  {
   "cell_type": "code",
   "execution_count": 12,
   "id": "b0089f52-e482-4ace-bc5d-7f437b95e3a2",
   "metadata": {},
   "outputs": [
    {
     "name": "stdout",
     "output_type": "stream",
     "text": [
      "Similaries to Baum:\n",
      "- Weinstock: 0.6477630734443665\n",
      "- Apfel: 0.6441071629524231\n",
      "- Strauch: 0.6410437226295471\n",
      "- Apfelbaum: 0.6389701962471008\n",
      "- Vogel: 0.6289952993392944\n",
      "- Baumstumpf: 0.626349151134491\n",
      "- Baumstamm: 0.620591938495636\n",
      "- Weihnachtsbaum: 0.6189109086990356\n",
      "- Bäume: 0.6137257218360901\n",
      "- Laubbaum: 0.6130268573760986\n"
     ]
    }
   ],
   "source": [
    "word =\"Baum\"\n",
    "print(f'Similaries to {word}:')\n",
    "for similar_word, similarity in model.wv.most_similar(word, topn=10):\n",
    "    print(f\"- {similar_word}: {similarity}\")"
   ]
  },
  {
   "cell_type": "code",
   "execution_count": 13,
   "id": "12f44d36-b1c2-4da2-8b95-bf70f2272833",
   "metadata": {},
   "outputs": [
    {
     "data": {
      "text/plain": [
       "0.5306131"
      ]
     },
     "execution_count": 13,
     "metadata": {},
     "output_type": "execute_result"
    }
   ],
   "source": [
    "model.wv.similarity('Frau', 'Dame')"
   ]
  },
  {
   "cell_type": "code",
   "execution_count": 15,
   "id": "0c3ca867-bd5c-43f5-b822-d7162be4f993",
   "metadata": {},
   "outputs": [
    {
     "data": {
      "text/plain": [
       "array([-1.181889  , -0.89433265,  2.018936  ,  0.8627154 , -0.63187146,\n",
       "       -2.602661  , -2.627212  ,  0.19514817,  0.1520856 ,  0.3702624 ,\n",
       "       -1.8769661 ,  0.4918856 ,  0.03087223, -0.85849136, -0.43137014,\n",
       "        1.6577926 ,  0.05613025,  1.7230369 , -0.76580584,  2.7513742 ,\n",
       "        0.26591384,  1.992177  ,  1.0122392 ,  1.041754  ,  2.2528224 ,\n",
       "        1.9612367 ,  0.5447587 ,  0.16171515, -3.5868526 ,  1.3502945 ,\n",
       "        0.3955947 , -0.49934164, -1.2077839 , -1.9304167 , -2.1133792 ,\n",
       "       -3.0101705 , -0.35178325,  0.65996844,  2.045314  , -1.6903212 ,\n",
       "        0.35783443, -1.1829544 ,  1.0393255 ,  0.72216785,  0.31885713,\n",
       "        2.59516   ,  1.0717545 ,  0.22670726,  2.370571  ,  2.5741425 ,\n",
       "       -0.65703994,  0.20765062, -0.8632791 ,  1.3926529 , -3.9209416 ,\n",
       "       -1.9719476 , -2.0785363 , -0.50394374, -0.54850596,  2.0838158 ,\n",
       "        0.3768933 ,  0.38173786, -0.7318942 , -0.51127064, -0.04635815,\n",
       "        0.9138852 , -1.0810513 , -1.7293489 ,  3.2735431 , -3.4071534 ,\n",
       "        1.8052815 , -1.4988261 , -0.05630492, -0.7427722 ,  0.45061573,\n",
       "       -1.2032617 , -0.36714095,  0.6658121 ,  0.92138803,  0.93798   ,\n",
       "        0.8835927 ,  3.7576423 ,  1.2045977 ,  0.20456797,  3.4654465 ,\n",
       "       -1.1715769 , -0.85338646, -1.4768142 , -0.9645125 , -0.61698675,\n",
       "        0.5192549 ,  1.5208387 , -0.08554944,  0.20760107, -2.756759  ,\n",
       "       -3.293722  ,  1.088586  , -1.2255162 , -0.03893707, -2.5513062 ,\n",
       "       -0.49802777,  0.49038076,  3.486002  , -1.657322  , -0.4939496 ,\n",
       "       -3.5166256 ,  3.0957344 ,  0.6686733 ,  2.6609173 , -0.52241385,\n",
       "        0.5460149 ,  0.2383632 ,  0.9878111 ,  0.5983868 ,  3.5220647 ,\n",
       "        0.06248186,  1.4370713 ,  1.0652217 , -0.40315056, -0.7626898 ,\n",
       "       -2.0371106 ,  0.29995593, -0.4729867 ,  2.0670395 , -1.421768  ,\n",
       "       -0.45950207,  0.8563624 , -2.6417177 , -0.5094367 , -1.2029684 ,\n",
       "       -1.1332483 ,  2.2150905 , -3.632914  ,  0.7026219 ,  1.0131747 ,\n",
       "        0.03963866, -2.2201147 ,  0.2549436 , -0.903796  ,  1.993252  ,\n",
       "       -1.20105   , -0.5801735 ,  4.1731243 ,  0.35599944, -1.3605108 ,\n",
       "       -1.0803823 , -0.40108332,  1.0145427 ,  1.6719205 ,  3.854264  ,\n",
       "       -1.5488849 , -0.04956299, -0.04679559, -2.7864645 ,  2.9639332 ,\n",
       "       -0.7252493 ,  0.3545266 ,  0.91266215,  1.5139806 , -0.30593163,\n",
       "        0.33702394,  0.57155627, -0.8519193 ,  0.68364114,  0.8064746 ,\n",
       "       -2.7568364 ,  0.48954773, -1.1594108 ,  0.0411553 ,  0.46318027,\n",
       "       -0.52433455, -0.07154419,  1.6761583 ,  2.5536525 ,  0.6613581 ,\n",
       "       -0.3038474 ,  1.3078766 , -1.0078769 ,  0.62889034,  0.22077498,\n",
       "        0.6535271 , -0.17557424, -4.055501  ,  1.6092936 ,  2.9736629 ,\n",
       "        0.18987581, -0.9571245 , -0.80312824, -1.2253416 ,  2.0670292 ,\n",
       "       -2.7582242 , -1.2453935 ,  1.8921403 , -1.3868923 , -3.9642682 ,\n",
       "       -1.011207  , -2.093899  , -0.82627946,  0.38968846, -0.7449996 ],\n",
       "      dtype=float32)"
      ]
     },
     "execution_count": 15,
     "metadata": {},
     "output_type": "execute_result"
    }
   ],
   "source": [
    "model.wv['Frau']"
   ]
  },
  {
   "cell_type": "code",
   "execution_count": 17,
   "id": "033b49e2-5c01-4a3d-9561-0e6195235412",
   "metadata": {},
   "outputs": [],
   "source": [
    "import numpy"
   ]
  },
  {
   "cell_type": "code",
   "execution_count": 20,
   "id": "f8d44958-06d2-4529-a854-8b0193f164ef",
   "metadata": {},
   "outputs": [
    {
     "name": "stdout",
     "output_type": "stream",
     "text": [
      "0.5306131\n"
     ]
    }
   ],
   "source": [
    "print(cosine_similarity)"
   ]
  },
  {
   "cell_type": "code",
   "execution_count": 21,
   "id": "9edd91b1-650a-4f3e-a5cb-a145a2a52e7a",
   "metadata": {},
   "outputs": [
    {
     "data": {
      "text/plain": [
       "0.2169094"
      ]
     },
     "execution_count": 21,
     "metadata": {},
     "output_type": "execute_result"
    }
   ],
   "source": [
    "model.wv.similarity('Frau', 'Baum')"
   ]
  },
  {
   "cell_type": "code",
   "execution_count": 22,
   "id": "819711f8-2baa-4e2c-bee7-2e7371034820",
   "metadata": {},
   "outputs": [
    {
     "data": {
      "text/plain": [
       "0.20391911"
      ]
     },
     "execution_count": 22,
     "metadata": {},
     "output_type": "execute_result"
    }
   ],
   "source": [
    "model.wv.similarity('Dame', 'Baum')"
   ]
  },
  {
   "cell_type": "code",
   "execution_count": 22,
   "id": "d3536a1a-ce3f-4afa-ac87-ebf64a0773da",
   "metadata": {},
   "outputs": [
    {
     "name": "stdout",
     "output_type": "stream",
     "text": [
      "Cosine Similarity between 'Frau' and 'Dame': 0.5306\n"
     ]
    }
   ],
   "source": [
    "# Function to calculate cosine similarity between two word vectors\n",
    "def cosine_similarity(word1, word2):\n",
    "    try:\n",
    "        # Calculate cosine similarity between the word vectors\n",
    "        similarity_score = model.wv.similarity(word1, word2)\n",
    "        return similarity_score\n",
    "    except KeyError:\n",
    "        # Handle the case where one or both words are not in the vocabulary\n",
    "        return None\n",
    "\n",
    "# Example usage\n",
    "word1 = 'Frau'\n",
    "word2 = 'Dame'\n",
    "\n",
    "# Calculate cosine similarity between 'Frau' and 'Dame'\n",
    "similarity_score = cosine_similarity(word1, word2)\n",
    "\n",
    "if similarity_score is not None:\n",
    "    print(f\"Cosine Similarity between '{word1}' and '{word2}': {similarity_score:.4f}\")\n",
    "else:\n",
    "    print(f\"At least one of the words '{word1}' or '{word2}' is not in the vocabulary.\")\n"
   ]
  },
  {
   "cell_type": "code",
   "execution_count": 29,
   "id": "e2cf23e8-e8fd-4527-ba05-b37bcc10ff60",
   "metadata": {},
   "outputs": [
    {
     "name": "stdout",
     "output_type": "stream",
     "text": [
      "Cosine Similarity between 'Ball' and 'Fest': 0.2135\n"
     ]
    }
   ],
   "source": [
    "# Example usage\n",
    "word3 = 'Ball'\n",
    "word4 = 'Fest'\n",
    "\n",
    "# Calculate cosine similarity between 'Ball' and 'Fest'\n",
    "similarity_score = cosine_similarity(word3, word4)\n",
    "\n",
    "if similarity_score is not None:\n",
    "    print(f\"Cosine Similarity between '{word3}' and '{word4}': {similarity_score:.4f}\")\n",
    "else:\n",
    "    print(f\"At least one of the words '{word3}' or '{word4}' is not in the vocabulary.\")"
   ]
  },
  {
   "cell_type": "code",
   "execution_count": 24,
   "id": "4a973377-1962-43a1-9ae1-1688771801c5",
   "metadata": {},
   "outputs": [
    {
     "name": "stdout",
     "output_type": "stream",
     "text": [
      "Cosine Similarity between 'Gala' and 'Fest': 0.4015\n"
     ]
    }
   ],
   "source": [
    "# Example usage\n",
    "word5 = 'Gala'\n",
    "word6 = 'Fest'\n",
    "\n",
    "# Calculate cosine similarity between 'Gala' and 'Fest'\n",
    "similarity_score = cosine_similarity(word5, word6)\n",
    "\n",
    "if similarity_score is not None:\n",
    "    print(f\"Cosine Similarity between '{word5}' and '{word6}': {similarity_score:.4f}\")\n",
    "else:\n",
    "    print(f\"At least one of the words '{word5}' or '{word6}' is not in the vocabulary.\")"
   ]
  },
  {
   "cell_type": "code",
   "execution_count": 25,
   "id": "da51fc16-a866-4908-91c6-a6fedc72a7da",
   "metadata": {},
   "outputs": [
    {
     "name": "stdout",
     "output_type": "stream",
     "text": [
      "Cosine Similarity between 'Tanz' and 'Fest': 0.4546\n"
     ]
    }
   ],
   "source": [
    "# Example usage\n",
    "word7 = 'Tanz'\n",
    "word8 = 'Fest'\n",
    "\n",
    "# Calculate cosine similarity between 'Tanz' and 'Fest'\n",
    "similarity_score = cosine_similarity(word7, word8)\n",
    "\n",
    "if similarity_score is not None:\n",
    "    print(f\"Cosine Similarity between '{word7}' and '{word8}': {similarity_score:.4f}\")\n",
    "else:\n",
    "    print(f\"At least one of the words '{word7}' or '{word8}' is not in the vocabulary.\")"
   ]
  },
  {
   "cell_type": "code",
   "execution_count": 27,
   "id": "d2b04bea-ad50-43e7-872e-e823acd6783c",
   "metadata": {},
   "outputs": [
    {
     "name": "stdout",
     "output_type": "stream",
     "text": [
      "Cosine Similarity between 'Gala' and 'Tanz': 0.3720\n"
     ]
    }
   ],
   "source": [
    "# Example usage\n",
    "word9 = 'Gala'\n",
    "word10 = 'Tanz'\n",
    "\n",
    "# Calculate cosine similarity between 'Gala' and 'Fest'\n",
    "similarity_score = cosine_similarity(word9, word10)\n",
    "\n",
    "if similarity_score is not None:\n",
    "    print(f\"Cosine Similarity between '{word9}' and '{word10}': {similarity_score:.4f}\")\n",
    "else:\n",
    "    print(f\"At least one of the words '{word9}' or '{word10}' is not in the vocabulary.\")"
   ]
  },
  {
   "cell_type": "code",
   "execution_count": 28,
   "id": "696caf4d-9343-4d23-ac66-2ceee7f61da1",
   "metadata": {},
   "outputs": [
    {
     "name": "stdout",
     "output_type": "stream",
     "text": [
      "Cosine Similarity between 'Ball' and 'Tanz': 0.3650\n"
     ]
    }
   ],
   "source": [
    "# Example usage\n",
    "word11 = 'Ball'\n",
    "word12 = 'Tanz'\n",
    "\n",
    "# Calculate cosine similarity between 'Gala' and 'Fest'\n",
    "similarity_score = cosine_similarity(word11, word12)\n",
    "\n",
    "if similarity_score is not None:\n",
    "    print(f\"Cosine Similarity between '{word11}' and '{word12}': {similarity_score:.4f}\")\n",
    "else:\n",
    "    print(f\"At least one of the words '{word11}' or '{word12}' is not in the vocabulary.\")"
   ]
  },
  {
   "cell_type": "code",
   "execution_count": 30,
   "id": "60bb8f80-a53a-470f-be38-ccc7575c08c8",
   "metadata": {},
   "outputs": [
    {
     "name": "stdout",
     "output_type": "stream",
     "text": [
      "Cosine Similarity between 'Ball' and 'Gala': 0.2942\n"
     ]
    }
   ],
   "source": [
    "# Example usage\n",
    "word13 = 'Ball'\n",
    "word14 = 'Gala'\n",
    "\n",
    "# Calculate cosine similarity between 'Gala' and 'Fest'\n",
    "similarity_score = cosine_similarity(word13, word14)\n",
    "\n",
    "if similarity_score is not None:\n",
    "    print(f\"Cosine Similarity between '{word13}' and '{word14}': {similarity_score:.4f}\")\n",
    "else:\n",
    "    print(f\"At least one of the words '{word13}' or '{word14}' is not in the vocabulary.\")"
   ]
  },
  {
   "cell_type": "code",
   "execution_count": 31,
   "id": "6d87de37-2820-4747-a61c-674577df6350",
   "metadata": {},
   "outputs": [
    {
     "name": "stdout",
     "output_type": "stream",
     "text": [
      "Cosine Similarity between 'Zweck' and 'Ziel': 0.5920\n"
     ]
    }
   ],
   "source": [
    "# Example usage\n",
    "word15 = 'Zweck'\n",
    "word16 = 'Ziel'\n",
    "\n",
    "# Calculate cosine similarity between 'Gala' and 'Fest'\n",
    "similarity_score = cosine_similarity(word15, word16)\n",
    "\n",
    "if similarity_score is not None:\n",
    "    print(f\"Cosine Similarity between '{word15}' and '{word16}': {similarity_score:.4f}\")\n",
    "else:\n",
    "    print(f\"At least one of the words '{word15}' or '{word16}' is not in the vocabulary.\")"
   ]
  },
  {
   "cell_type": "code",
   "execution_count": 32,
   "id": "f1cce271-7901-4e7c-9ab5-36ab26a60907",
   "metadata": {},
   "outputs": [
    {
     "name": "stdout",
     "output_type": "stream",
     "text": [
      "Cosine Similarity between 'Feuer' and 'Brand': 0.5744\n"
     ]
    }
   ],
   "source": [
    "# Example usage\n",
    "word17 = 'Feuer'\n",
    "word18 = 'Brand'\n",
    "\n",
    "# Calculate cosine similarity between 'Gala' and 'Fest'\n",
    "similarity_score = cosine_similarity(word17, word18)\n",
    "\n",
    "if similarity_score is not None:\n",
    "    print(f\"Cosine Similarity between '{word17}' and '{word18}': {similarity_score:.4f}\")\n",
    "else:\n",
    "    print(f\"At least one of the words '{word17}' or '{word18}' is not in the vocabulary.\")"
   ]
  },
  {
   "cell_type": "code",
   "execution_count": 33,
   "id": "9fc693a5-f32e-4a5a-858b-254c186126dd",
   "metadata": {},
   "outputs": [
    {
     "name": "stdout",
     "output_type": "stream",
     "text": [
      "Cosine Similarity between 'Haltestelle' and 'Station': 0.6987\n"
     ]
    }
   ],
   "source": [
    "# Example usage\n",
    "word19 = 'Haltestelle'\n",
    "word20 = 'Station'\n",
    "\n",
    "# Calculate cosine similarity between 'Gala' and 'Fest'\n",
    "similarity_score = cosine_similarity(word19, word20)\n",
    "\n",
    "if similarity_score is not None:\n",
    "    print(f\"Cosine Similarity between '{word19}' and '{word20}': {similarity_score:.4f}\")\n",
    "else:\n",
    "    print(f\"At least one of the words '{word19}' or '{word20}' is not in the vocabulary.\")"
   ]
  },
  {
   "cell_type": "code",
   "execution_count": 34,
   "id": "16c1aef0-4a08-4147-acd3-68cc09e64695",
   "metadata": {},
   "outputs": [
    {
     "name": "stdout",
     "output_type": "stream",
     "text": [
      "Cosine Similarity between 'Zahl' and 'Nummer': 0.2519\n"
     ]
    }
   ],
   "source": [
    "# Example usage\n",
    "word21 = 'Zahl'\n",
    "word22 = 'Nummer'\n",
    "\n",
    "# Calculate cosine similarity between 'Gala' and 'Fest'\n",
    "similarity_score = cosine_similarity(word21, word22)\n",
    "\n",
    "if similarity_score is not None:\n",
    "    print(f\"Cosine Similarity between '{word21}' and '{word22}': {similarity_score:.4f}\")\n",
    "else:\n",
    "    print(f\"At least one of the words '{word21}' or '{word22}' is not in the vocabulary.\")"
   ]
  },
  {
   "cell_type": "code",
   "execution_count": 35,
   "id": "ecb79677-1ba3-4da5-9cf9-0b41ae89a2b2",
   "metadata": {},
   "outputs": [
    {
     "name": "stdout",
     "output_type": "stream",
     "text": [
      "Cosine Similarity between 'Raum' and 'Zimmer': 0.2844\n"
     ]
    }
   ],
   "source": [
    "# Example usage\n",
    "word25 = 'Raum'\n",
    "word26 = 'Zimmer'\n",
    "\n",
    "# Calculate cosine similarity between 'Gala' and 'Fest'\n",
    "similarity_score = cosine_similarity(word25, word26)\n",
    "\n",
    "if similarity_score is not None:\n",
    "    print(f\"Cosine Similarity between '{word25}' and '{word26}': {similarity_score:.4f}\")\n",
    "else:\n",
    "    print(f\"At least one of the words '{word25}' or '{word26}' is not in the vocabulary.\")"
   ]
  },
  {
   "cell_type": "code",
   "execution_count": 36,
   "id": "1f5056cd-3506-4405-87d6-ec9e418e842d",
   "metadata": {},
   "outputs": [
    {
     "name": "stdout",
     "output_type": "stream",
     "text": [
      "Cosine Similarity between 'Etage' and 'Stock': 0.5768\n"
     ]
    }
   ],
   "source": [
    "# Example usage\n",
    "word27 = 'Etage'\n",
    "word28 = 'Stock'\n",
    "\n",
    "# Calculate cosine similarity between 'Gala' and 'Fest'\n",
    "similarity_score = cosine_similarity(word27, word28)\n",
    "\n",
    "if similarity_score is not None:\n",
    "    print(f\"Cosine Similarity between '{word27}' and '{word28}': {similarity_score:.4f}\")\n",
    "else:\n",
    "    print(f\"At least one of the words '{word27}' or '{word28}' is not in the vocabulary.\")"
   ]
  },
  {
   "cell_type": "code",
   "execution_count": 37,
   "id": "8670d13e-7fb9-4e0d-94f1-3ef980961efd",
   "metadata": {},
   "outputs": [
    {
     "name": "stdout",
     "output_type": "stream",
     "text": [
      "Cosine Similarity between 'Ball' and 'Kugel': 0.5053\n"
     ]
    }
   ],
   "source": [
    "# Example usage\n",
    "word27 = 'Ball'\n",
    "word28 = 'Kugel'\n",
    "\n",
    "# Calculate cosine similarity between 'Gala' and 'Fest'\n",
    "similarity_score = cosine_similarity(word27, word28)\n",
    "\n",
    "if similarity_score is not None:\n",
    "    print(f\"Cosine Similarity between '{word27}' and '{word28}': {similarity_score:.4f}\")\n",
    "else:\n",
    "    print(f\"At least one of the words '{word27}' or '{word28}' is not in the vocabulary.\")"
   ]
  },
  {
   "cell_type": "code",
   "execution_count": 38,
   "id": "b418cb55-7c91-4d2d-be32-385c8850fed6",
   "metadata": {},
   "outputs": [
    {
     "name": "stdout",
     "output_type": "stream",
     "text": [
      "Cosine Similarity between 'Frau' and 'Mann': 0.5211\n"
     ]
    }
   ],
   "source": [
    "# Example usage\n",
    "word27 = 'Frau'\n",
    "word28 = 'Mann'\n",
    "\n",
    "# Calculate cosine similarity between 'Gala' and 'Fest'\n",
    "similarity_score = cosine_similarity(word27, word28)\n",
    "\n",
    "if similarity_score is not None:\n",
    "    print(f\"Cosine Similarity between '{word27}' and '{word28}': {similarity_score:.4f}\")\n",
    "else:\n",
    "    print(f\"At least one of the words '{word27}' or '{word28}' is not in the vocabulary.\")"
   ]
  },
  {
   "cell_type": "code",
   "execution_count": 39,
   "id": "401f73dc-4233-4a10-ad3d-3f31e1296c45",
   "metadata": {},
   "outputs": [
    {
     "name": "stdout",
     "output_type": "stream",
     "text": [
      "Cosine Similarity between 'Frau' and 'Dame': 0.5306\n"
     ]
    }
   ],
   "source": [
    "# Example usage\n",
    "word27 = 'Frau'\n",
    "word28 = 'Dame'\n",
    "\n",
    "# Calculate cosine similarity between 'Gala' and 'Fest'\n",
    "similarity_score = cosine_similarity(word27, word28)\n",
    "\n",
    "if similarity_score is not None:\n",
    "    print(f\"Cosine Similarity between '{word27}' and '{word28}': {similarity_score:.4f}\")\n",
    "else:\n",
    "    print(f\"At least one of the words '{word27}' or '{word28}' is not in the vocabulary.\")"
   ]
  },
  {
   "cell_type": "code",
   "execution_count": null,
   "id": "8353d6c5-e01e-4af5-83e5-da67334cb3e6",
   "metadata": {},
   "outputs": [],
   "source": []
  }
 ],
 "metadata": {
  "kernelspec": {
   "display_name": "Python 3 (ipykernel)",
   "language": "python",
   "name": "python3"
  },
  "language_info": {
   "codemirror_mode": {
    "name": "ipython",
    "version": 3
   },
   "file_extension": ".py",
   "mimetype": "text/x-python",
   "name": "python",
   "nbconvert_exporter": "python",
   "pygments_lexer": "ipython3",
   "version": "3.10.12"
  }
 },
 "nbformat": 4,
 "nbformat_minor": 5
}
