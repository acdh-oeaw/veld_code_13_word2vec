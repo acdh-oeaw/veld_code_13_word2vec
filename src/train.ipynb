{
 "cells": [
  {
   "cell_type": "code",
   "execution_count": 1,
   "id": "af209ee2-4e1f-4b5d-ae5d-76ebe8b665b0",
   "metadata": {},
   "outputs": [
    {
     "name": "stdout",
     "output_type": "stream",
     "text": [
      "bla.txt\n"
     ]
    }
   ],
   "source": [
    "# traing data into this folder\n",
    "!ls /veld/input/"
   ]
  },
  {
   "cell_type": "code",
   "execution_count": 2,
   "id": "40dab2ed-1791-4cb8-9fa2-7480f2f41b3c",
   "metadata": {},
   "outputs": [
    {
     "name": "stdout",
     "output_type": "stream",
     "text": [
      "train.ipynb\n"
     ]
    }
   ],
   "source": [
    "# code here\n",
    "!ls /veld/executable/"
   ]
  },
  {
   "cell_type": "code",
   "execution_count": 6,
   "id": "ff4ab13e-0705-4f47-9d90-faf367fb823d",
   "metadata": {},
   "outputs": [
    {
     "name": "stdout",
     "output_type": "stream",
     "text": [
      "word2vec.model_de\t       word2vec.model_de.wv.vectors.npy\n",
      "word2vec.model_de.syn1neg.npy\n"
     ]
    }
   ],
   "source": [
    "# save models here\n",
    "!ls /veld/output/models/m1/"
   ]
  },
  {
   "cell_type": "code",
   "execution_count": 4,
   "id": "7e860fa5-cbbb-4faf-bddd-8ff1f286d722",
   "metadata": {},
   "outputs": [
    {
     "name": "stdout",
     "output_type": "stream",
     "text": [
      "veld.yaml\n"
     ]
    }
   ],
   "source": [
    "# save evaluation here\n",
    "!ls /veld/output/evaluation/"
   ]
  },
  {
   "cell_type": "code",
   "execution_count": 2,
   "id": "a360935a-4f3f-4368-a008-fcb47be9ae81",
   "metadata": {},
   "outputs": [],
   "source": [
    "import gensim"
   ]
  },
  {
   "cell_type": "code",
   "execution_count": 8,
   "id": "688a1248-0c61-4d35-b039-beb783af984c",
   "metadata": {},
   "outputs": [],
   "source": [
    "model = gensim.models.Word2Vec.load(\"/veld/output/models/m1/word2vec.model_de\")"
   ]
  },
  {
   "cell_type": "code",
   "execution_count": 9,
   "id": "d9642ef3-e17e-4f9f-b71c-beff2b26101e",
   "metadata": {},
   "outputs": [
    {
     "name": "stdout",
     "output_type": "stream",
     "text": [
      "Similaries to Wien:\n",
      "- Graz: 0.8635727763175964\n",
      "- Innsbruck: 0.8126301765441895\n",
      "- Linz: 0.8041017651557922\n",
      "- Salzburg: 0.7798072099685669\n",
      "- Klagenfurt: 0.7620077729225159\n",
      "- Budapest: 0.7134349346160889\n",
      "- Prag: 0.7001412510871887\n",
      "- Mödling: 0.6942557692527771\n",
      "- Wiener: 0.6934540867805481\n",
      "- Gmunden: 0.6655656695365906\n"
     ]
    }
   ],
   "source": [
    "word =\"Wien\"\n",
    "print(f'Similaries to {word}:')\n",
    "for similar_word, similarity in model.wv.most_similar(word, topn=10):\n",
    "    print(f\"- {similar_word}: {similarity}\")"
   ]
  },
  {
   "cell_type": "code",
   "execution_count": null,
   "id": "b3304a19-bc08-400b-95bb-9070219faa7c",
   "metadata": {},
   "outputs": [],
   "source": []
  }
 ],
 "metadata": {
  "kernelspec": {
   "display_name": "Python 3 (ipykernel)",
   "language": "python",
   "name": "python3"
  },
  "language_info": {
   "codemirror_mode": {
    "name": "ipython",
    "version": 3
   },
   "file_extension": ".py",
   "mimetype": "text/x-python",
   "name": "python",
   "nbconvert_exporter": "python",
   "pygments_lexer": "ipython3",
   "version": "3.10.12"
  }
 },
 "nbformat": 4,
 "nbformat_minor": 5
}
