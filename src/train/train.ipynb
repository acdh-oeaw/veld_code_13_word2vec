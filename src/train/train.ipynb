{
 "cells": [
  {
   "cell_type": "code",
   "execution_count": null,
   "id": "d6a2d893-ea3f-40ec-a82a-81df6b4db333",
   "metadata": {},
   "outputs": [],
   "source": [
    "import os\n",
    "import pandas as pd\n",
    "import gensim\n",
    "from gensim.utils import simple_preprocess\n",
    "from gensim.models.word2vec import LineSentence\n",
    "from datetime import datetime"
   ]
  },
  {
   "cell_type": "code",
   "execution_count": null,
   "id": "c0b6f82d-5e73-458d-8a34-86f7692fd0f6",
   "metadata": {},
   "outputs": [],
   "source": [
    "# train data \n",
    "TRAIN_DATA_PATH = os.getenv(\"train_data_path\")\n",
    "TRAIN_DATA_DESCRIPTION = os.getenv(\"train_data_description\")\n",
    "\n",
    "# model data\n",
    "MODEL_PATH = os.getenv(\"model_path\")\n",
    "MODEL_ARCHITECTURE = os.getenv(\"model_architecture\")\n",
    "MODEL_ID = os.getenv(\"model_id\")\n",
    "MODEL_METADATA_PATH = MODEL_PATH + \"metadata.yaml\"\n",
    "\n",
    "# model hyperparameters\n",
    "VECTOR_SIZE = int(os.getenv(\"vector_size\"))\n",
    "WINDOW = int(os.getenv(\"window\"))\n",
    "MIN_COUNT = int(os.getenv(\"min_count\"))"
   ]
  },
  {
   "cell_type": "code",
   "execution_count": null,
   "id": "543ebd05-1e68-450a-bedd-027d787b5364",
   "metadata": {},
   "outputs": [],
   "source": [
    "print(f\"TRAIN_DATA_PATH: {TRAIN_DATA_PATH}\")\n",
    "print(f\"TRAIN_DATA_DESCRIPTION: {TRAIN_DATA_DESCRIPTION}\")\n",
    "print(f\"MODEL_PATH: {MODEL_PATH}\")\n",
    "print(f\"MODEL_ARCHITECTURE: {MODEL_ARCHITECTURE}\")\n",
    "print(f\"MODEL_ID: {MODEL_ID}\")\n",
    "print(f\"MODEL_METADATA_PATH: {MODEL_METADATA_PATH}\")\n",
    "print(f\"VECTOR_SIZE: {VECTOR_SIZE}\")\n",
    "print(f\"WINDOW: {WINDOW}\")\n",
    "print(f\"MIN_COUNT: {MIN_COUNT}\")"
   ]
  },
  {
   "cell_type": "code",
   "execution_count": null,
   "id": "0ceded16-039b-41f5-a1de-0d93037c31bb",
   "metadata": {},
   "outputs": [],
   "source": [
    "sentences = LineSentence(TRAIN_DATA_PATH)"
   ]
  },
  {
   "cell_type": "code",
   "execution_count": null,
   "id": "ce4b8295-6a3f-4bee-8ce2-885745bf9b90",
   "metadata": {},
   "outputs": [],
   "source": [
    "time_start = datetime.now()\n",
    "model = gensim.models.Word2Vec(\n",
    "    sentences=sentences,\n",
    "    vector_size=VECTOR_SIZE,\n",
    "    window=WINDOW,\n",
    "    min_count=MIN_COUNT,\n",
    "    workers=os.cpu_count()\n",
    ")\n",
    "duration = (datetime.now() - time_start).seconds / 60\n",
    "model.save(MODEL_PATH)"
   ]
  },
  {
   "cell_type": "code",
   "execution_count": null,
   "id": "0afd9152-4b14-401b-9bf2-cfa9186aef34",
   "metadata": {},
   "outputs": [],
   "source": [
    "# calculate size of training data\n",
    "def calc_size(file):\n",
    "    size = os.path.getsize(file)\n",
    "    for unit in [\"\",\"KB\",\"MB\",\"GB\",\"TB\"]:\n",
    "        if abs(size) < 1024.0:\n",
    "            return f\"{round(size, 1)} {unit}\"\n",
    "        size /= 1024.0\n",
    "train_data_size = calc_size(TRAIN_DATA_PATH)\n",
    "model_data_size = calc_size(MODEL_PATH)\n",
    "\n",
    "# calculate hash of training data\n",
    "train_data_md5_hash = subprocess.run([\"md5sum\", TRAIN_DATA_PATH], capture_output=True, text=True)\n",
    "train_data_md5_hash = train_data_md5_hash.stdout.split()[0]\n",
    "\n",
    "\n",
    "# aggregate into metadata dictionary\n",
    "metadata = {\n",
    "    \"train_data_name\": TRAIN_DATA_NAME,\n",
    "    \"train_data_size\": train_data_size,\n",
    "    \"train_data_md5_hash\": train_data_md5_hash,\n",
    "    \"training_vector_size\": VECTOR_SIZE,\n",
    "    \"window\": WINDOW,\n",
    "    \"min_count\": MIN_COUNT,\n",
    "    \"workers\": WORKERS,\n",
    "    \"training_duration (minutes)\": round(duration, 1),\n",
    "    \"model_data_size\": model_data_size,\n",
    "}\n",
    "\n",
    "# write to yaml\n",
    "with open(MODEL_METADATA_PATH, \"w\") as f:\n",
    "    # iteration over dictionary to ensure the yaml writer respects the order\n",
    "    for k, v in metadata.items():\n",
    "        yaml.dump({k: v}, f)"
   ]
  }
 ],
 "metadata": {
  "kernelspec": {
   "display_name": "Python 3 (ipykernel)",
   "language": "python",
   "name": "python3"
  },
  "language_info": {
   "codemirror_mode": {
    "name": "ipython",
    "version": 3
   },
   "file_extension": ".py",
   "mimetype": "text/x-python",
   "name": "python",
   "nbconvert_exporter": "python",
   "pygments_lexer": "ipython3",
   "version": "3.10.12"
  }
 },
 "nbformat": 4,
 "nbformat_minor": 5
}
