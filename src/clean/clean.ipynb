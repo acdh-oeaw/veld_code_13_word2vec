{
 "cells": [
  {
   "cell_type": "code",
   "execution_count": null,
   "id": "792e958b-9ad4-45eb-8efe-f812dcf87020",
   "metadata": {},
   "outputs": [],
   "source": [
    "import os\n",
    "import pandas as pd\n",
    "import re"
   ]
  },
  {
   "cell_type": "code",
   "execution_count": null,
   "id": "ec925391-5eba-40c4-b63d-e2a9ba355745",
   "metadata": {},
   "outputs": [],
   "source": [
    "INPUT_FILE_PATH = \"/veld/input/\" + os.getenv(\"INPUT_FILE_NAME\")\n",
    "OUTPUT_FILE_PATH = \"/veld/output/\" + os.getenv(\"OUTPUT_FILE_NAME\")"
   ]
  },
  {
   "cell_type": "code",
   "execution_count": null,
   "id": "cf14b76c-d3dd-44cd-8884-c09327e8fa9c",
   "metadata": {},
   "outputs": [],
   "source": [
    "data = pd.read_csv(INPUT_FILE_PATH)\n",
    "data = data.rename(columns={\"\\ttext\": \"text\"})\n",
    "data_cleaned = data.copy()"
   ]
  },
  {
   "cell_type": "code",
   "execution_count": null,
   "id": "c84d668f-b3f9-49bf-abac-15f42a7fa828",
   "metadata": {},
   "outputs": [],
   "source": [
    "for i in range(len(data)):\n",
    "    text = data.iloc[i][\"text\"]\n",
    "    text = re.sub(r\"\\d+\", \"\", text)\n",
    "    text = re.sub(r\"\\t\", \"\", text)\n",
    "    text = re.sub(r\"“\", \"\", text)\n",
    "    text = re.sub(r\"„\", \"\", text)\n",
    "    data_cleaned.iloc[i][\"text\"] = text #we load the data from the left into the variety to the right"
   ]
  },
  {
   "cell_type": "code",
   "execution_count": null,
   "id": "ff5fd0e1-379b-408a-b7a7-248fa0f019d2",
   "metadata": {},
   "outputs": [],
   "source": [
    "data_cleaned.head()"
   ]
  },
  {
   "cell_type": "code",
   "execution_count": null,
   "id": "dfcb9f4c-234d-443f-bdbb-4e8f816bca8b",
   "metadata": {},
   "outputs": [],
   "source": [
    "data_cleaned.sample(5)"
   ]
  },
  {
   "cell_type": "code",
   "execution_count": null,
   "id": "8de1d975-2bad-424f-a35a-a6f081954841",
   "metadata": {},
   "outputs": [],
   "source": [
    "data_cleaned.to_csv(OUTPUT_FILE_PATH)"
   ]
  }
 ],
 "metadata": {
  "kernelspec": {
   "display_name": "Python 3 (ipykernel)",
   "language": "python",
   "name": "python3"
  },
  "language_info": {
   "codemirror_mode": {
    "name": "ipython",
    "version": 3
   },
   "file_extension": ".py",
   "mimetype": "text/x-python",
   "name": "python",
   "nbconvert_exporter": "python",
   "pygments_lexer": "ipython3",
   "version": "3.10.12"
  }
 },
 "nbformat": 4,
 "nbformat_minor": 5
}
