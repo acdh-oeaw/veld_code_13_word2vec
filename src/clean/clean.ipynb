{
 "cells": [
  {
   "cell_type": "code",
   "execution_count": 1,
   "id": "792e958b-9ad4-45eb-8efe-f812dcf87020",
   "metadata": {},
   "outputs": [],
   "source": [
    "import os\n",
    "import pandas as pd\n",
    "import re"
   ]
  },
  {
   "cell_type": "code",
   "execution_count": 2,
   "id": "ec925391-5eba-40c4-b63d-e2a9ba355745",
   "metadata": {},
   "outputs": [],
   "source": [
    "INPUT_FILE_PATH = \"/veld/input/data.csv\"\n",
    "OUTPUT_FILE_PATH = \"/veld/output/\" + os.getenv(\"OUTPUT_FILE_NAME\")"
   ]
  },
  {
   "cell_type": "code",
   "execution_count": 3,
   "id": "cf14b76c-d3dd-44cd-8884-c09327e8fa9c",
   "metadata": {},
   "outputs": [],
   "source": [
    "data = pd.read_csv(INPUT_FILE_PATH)\n",
    "data = data.rename(columns={\"\\ttext\": \"text\"})\n",
    "data_cleaned = data.copy()"
   ]
  },
  {
   "cell_type": "code",
   "execution_count": 4,
   "id": "c84d668f-b3f9-49bf-abac-15f42a7fa828",
   "metadata": {},
   "outputs": [],
   "source": [
    "for i in range(len(data)):\n",
    "    text = data.iloc[i][\"text\"]\n",
    "    text = re.sub(r\"\\d+\", \"\", text)\n",
    "    text = re.sub(r\"\\t\", \"\", text)\n",
    "    text = re.sub(r\"“\", \"\", text)\n",
    "    text = re.sub(r\"„\", \"\", text)\n",
    "    data_cleaned.iloc[i][\"text\"] = text #we load the data from the left into the variety to the right"
   ]
  },
  {
   "cell_type": "code",
   "execution_count": 5,
   "id": "ff5fd0e1-379b-408a-b7a7-248fa0f019d2",
   "metadata": {},
   "outputs": [
    {
     "data": {
      "text/html": [
       "<div>\n",
       "<style scoped>\n",
       "    .dataframe tbody tr th:only-of-type {\n",
       "        vertical-align: middle;\n",
       "    }\n",
       "\n",
       "    .dataframe tbody tr th {\n",
       "        vertical-align: top;\n",
       "    }\n",
       "\n",
       "    .dataframe thead th {\n",
       "        text-align: right;\n",
       "    }\n",
       "</style>\n",
       "<table border=\"1\" class=\"dataframe\">\n",
       "  <thead>\n",
       "    <tr style=\"text-align: right;\">\n",
       "      <th></th>\n",
       "      <th>text</th>\n",
       "    </tr>\n",
       "  </thead>\n",
       "  <tbody>\n",
       "    <tr>\n",
       "      <th>0</th>\n",
       "      <td>Alan Smithee steht als Pseudonym für einen fik...</td>\n",
       "    </tr>\n",
       "    <tr>\n",
       "      <th>1</th>\n",
       "      <td>1\\tActinium ist ein radioaktives chemisches El...</td>\n",
       "    </tr>\n",
       "    <tr>\n",
       "      <th>2</th>\n",
       "      <td>2\\tAng Lee Oktober in Chaozhou Landkreis Pingt...</td>\n",
       "    </tr>\n",
       "    <tr>\n",
       "      <th>3</th>\n",
       "      <td>3\\tAnschluss ist in der Soziologie ein Fachbeg...</td>\n",
       "    </tr>\n",
       "    <tr>\n",
       "      <th>4</th>\n",
       "      <td>4\\tDie Aussagenlogik ist ein Teilgebiet der Lo...</td>\n",
       "    </tr>\n",
       "  </tbody>\n",
       "</table>\n",
       "</div>"
      ],
      "text/plain": [
       "                                                text\n",
       "0  Alan Smithee steht als Pseudonym für einen fik...\n",
       "1  1\\tActinium ist ein radioaktives chemisches El...\n",
       "2  2\\tAng Lee Oktober in Chaozhou Landkreis Pingt...\n",
       "3  3\\tAnschluss ist in der Soziologie ein Fachbeg...\n",
       "4  4\\tDie Aussagenlogik ist ein Teilgebiet der Lo..."
      ]
     },
     "execution_count": 5,
     "metadata": {},
     "output_type": "execute_result"
    }
   ],
   "source": [
    "data_cleaned.head()"
   ]
  },
  {
   "cell_type": "code",
   "execution_count": 6,
   "id": "dfcb9f4c-234d-443f-bdbb-4e8f816bca8b",
   "metadata": {},
   "outputs": [
    {
     "data": {
      "text/html": [
       "<div>\n",
       "<style scoped>\n",
       "    .dataframe tbody tr th:only-of-type {\n",
       "        vertical-align: middle;\n",
       "    }\n",
       "\n",
       "    .dataframe tbody tr th {\n",
       "        vertical-align: top;\n",
       "    }\n",
       "\n",
       "    .dataframe thead th {\n",
       "        text-align: right;\n",
       "    }\n",
       "</style>\n",
       "<table border=\"1\" class=\"dataframe\">\n",
       "  <thead>\n",
       "    <tr style=\"text-align: right;\">\n",
       "      <th></th>\n",
       "      <th>text</th>\n",
       "    </tr>\n",
       "  </thead>\n",
       "  <tbody>\n",
       "    <tr>\n",
       "      <th>373743</th>\n",
       "      <td>373743\\tMalte Urban Dezember in Herford ist ei...</td>\n",
       "    </tr>\n",
       "    <tr>\n",
       "      <th>396141</th>\n",
       "      <td>396141\\tDer ist eine zur Region gehörende Verw...</td>\n",
       "    </tr>\n",
       "    <tr>\n",
       "      <th>476371</th>\n",
       "      <td>476371\\tParis eigentlich Oscar Jackson Jr Okto...</td>\n",
       "    </tr>\n",
       "    <tr>\n",
       "      <th>308202</th>\n",
       "      <td>308202\\tCadmiumsulfid ist eine chemische Verbi...</td>\n",
       "    </tr>\n",
       "    <tr>\n",
       "      <th>465811</th>\n",
       "      <td>465811\\t Wisse ist ein Asteroid des Hauptgürte...</td>\n",
       "    </tr>\n",
       "  </tbody>\n",
       "</table>\n",
       "</div>"
      ],
      "text/plain": [
       "                                                     text\n",
       "373743  373743\\tMalte Urban Dezember in Herford ist ei...\n",
       "396141  396141\\tDer ist eine zur Region gehörende Verw...\n",
       "476371  476371\\tParis eigentlich Oscar Jackson Jr Okto...\n",
       "308202  308202\\tCadmiumsulfid ist eine chemische Verbi...\n",
       "465811  465811\\t Wisse ist ein Asteroid des Hauptgürte..."
      ]
     },
     "execution_count": 6,
     "metadata": {},
     "output_type": "execute_result"
    }
   ],
   "source": [
    "data_cleaned.sample(5)"
   ]
  },
  {
   "cell_type": "code",
   "execution_count": 7,
   "id": "8de1d975-2bad-424f-a35a-a6f081954841",
   "metadata": {},
   "outputs": [],
   "source": [
    "data_cleaned.to_csv(OUTPUT_FILE_PATH)"
   ]
  }
 ],
 "metadata": {
  "kernelspec": {
   "display_name": "Python 3 (ipykernel)",
   "language": "python",
   "name": "python3"
  },
  "language_info": {
   "codemirror_mode": {
    "name": "ipython",
    "version": 3
   },
   "file_extension": ".py",
   "mimetype": "text/x-python",
   "name": "python",
   "nbconvert_exporter": "python",
   "pygments_lexer": "ipython3",
   "version": "3.10.12"
  }
 },
 "nbformat": 4,
 "nbformat_minor": 5
}
