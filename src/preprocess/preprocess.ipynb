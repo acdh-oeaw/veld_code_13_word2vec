{
 "cells": [
  {
   "cell_type": "code",
   "execution_count": null,
   "id": "792e958b-9ad4-45eb-8efe-f812dcf87020",
   "metadata": {},
   "outputs": [],
   "source": [
    "import os\n",
    "import pandas as pd\n",
    "import re\n",
    "import spacy\n",
    "language_model = \"de_core_news_lg\"\n",
    "spacy.cli.download(language_model)\n",
    "nlp = spacy.load(language_model)"
   ]
  },
  {
   "cell_type": "code",
   "execution_count": null,
   "id": "ec925391-5eba-40c4-b63d-e2a9ba355745",
   "metadata": {},
   "outputs": [],
   "source": [
    "unprocessed_file_path = os.getenv(\"unprocessed_file_path\")\n",
    "processed_file_path = os.getenv(\"processed_file_path\")"
   ]
  },
  {
   "cell_type": "code",
   "execution_count": null,
   "id": "cf14b76c-d3dd-44cd-8884-c09327e8fa9c",
   "metadata": {},
   "outputs": [],
   "source": [
    "data = pd.read_csv(unprocessed_file_path)\n",
    "data = data.rename(columns={\"\\ttext\": \"text\"})"
   ]
  },
  {
   "cell_type": "code",
   "execution_count": null,
   "id": "c84d668f-b3f9-49bf-abac-15f42a7fa828",
   "metadata": {},
   "outputs": [],
   "source": [
    "with open(processed_file_path, \"w\") as file:\n",
    "    for i in range(len(data)):\n",
    "        text = data.iloc[i][\"text\"]\n",
    "        text = re.sub(r\"\\d+\", \"\", text)\n",
    "        text = re.sub(r\"\\t\", \"\", text)\n",
    "        text = re.sub(r\"“\", \"\", text)\n",
    "        text = re.sub(r\"„\", \"\", text)\n",
    "        doc = nlp(text)\n",
    "        for sentence in doc.sents:\n",
    "            file.write(sentence.text + \".\\n\")"
   ]
  }
 ],
 "metadata": {
  "kernelspec": {
   "display_name": "Python 3 (ipykernel)",
   "language": "python",
   "name": "python3"
  },
  "language_info": {
   "codemirror_mode": {
    "name": "ipython",
    "version": 3
   },
   "file_extension": ".py",
   "mimetype": "text/x-python",
   "name": "python",
   "nbconvert_exporter": "python",
   "pygments_lexer": "ipython3",
   "version": "3.10.12"
  }
 },
 "nbformat": 4,
 "nbformat_minor": 5
}
